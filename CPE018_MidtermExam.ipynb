{
 "cells": [
  {
   "cell_type": "markdown",
   "id": "1d44fc7c-ab9b-43cc-919b-020cf9fce309",
   "metadata": {},
   "source": [
    "# CPE018 Midterm Exam (1st Sem, A.Y. 2023-2024)\n"
   ]
  },
  {
   "cell_type": "markdown",
   "id": "f2c73f82-2df6-45d1-852f-70f4f7fe0b73",
   "metadata": {},
   "source": [
    "Student Submission Details:\n",
    "* Name:\n",
    "* Section:\n",
    "* Schedule:\n",
    "* Instructor: Dr. Jonathan V. Taylar / Engr. Verlyn V. Nojor / Engr. Roman M. Richard"
   ]
  },
  {
   "cell_type": "markdown",
   "id": "67b600f8-951c-4920-873f-ef9ab278fbf0",
   "metadata": {},
   "source": [
    "---"
   ]
  },
  {
   "cell_type": "markdown",
   "id": "a3fed455-ea33-4e13-a725-0cd25e99041b",
   "metadata": {},
   "source": [
    "## Intended Learning Outcomes"
   ]
  },
  {
   "cell_type": "markdown",
   "id": "190f5a5b-4ac1-40f8-9b24-d244e929a3d3",
   "metadata": {},
   "source": [
    "By the end of this activity, the student should be able to:\n",
    "* ILO1: Demonstrate different methods for feature matching and detection learned in class and indepdentently from new sources.\n",
    "* ILO2: Evaluate the accuracy of different feature matching and detection methods and scrutinize its applicability in solving a given real-life problem."
   ]
  },
  {
   "cell_type": "markdown",
   "id": "55584754-3ca5-4a19-83db-17ac39101610",
   "metadata": {},
   "source": [
    "---"
   ]
  },
  {
   "cell_type": "markdown",
   "id": "8d9993c5-0f71-4bdc-8f4b-af50975b9d91",
   "metadata": {},
   "source": [
    "## Tasks"
   ]
  },
  {
   "cell_type": "markdown",
   "id": "7c8324f2-2f10-4a8b-873f-400c32338886",
   "metadata": {},
   "source": [
    "For this examination, you must create a **mood detection** program with an object-oriented programming approach (same as project CAMEO), it must detect mood changes through the use of algorithms/techniques/schemes learned in class, and from external sources.\n",
    "\n",
    "In this file, you have to include for each section of your solution your completion of the following:\n",
    "\n",
    "* Part 1: **Face Detection**: Once your face is detected using any algorithm, it must draw an ROI. The color for the ROI is your choice; however, it must detect for all faces in the frame and draw a corresponding ROI.\n",
    "* Part 2: **Face Recognition**: The detected face must then be recognized, using any of the provided tools in class, the ROIs must indicate whether it is your face or someone it doesn't recognize.\n",
    "* Part 3: **Mood Detection**: Use three different feature detection and matching techniques to determine three emotion: happy, sad and neutral. Two of the techniques must be learned from class, and 1 must be one you independently learned.\n",
    "\n",
    "Properly show through your notebook the output for each part of the exam."
   ]
  },
  {
   "cell_type": "markdown",
   "id": "c708ca1c-ed32-40fb-97bc-a017b4380692",
   "metadata": {},
   "source": [
    "---"
   ]
  },
  {
   "cell_type": "markdown",
   "id": "d4b3b1fb-327f-4723-aea3-543f1221c683",
   "metadata": {},
   "source": [
    "## Procedure and Outputs"
   ]
  },
  {
   "cell_type": "markdown",
   "id": "fef60d7f-d688-4ead-b9db-36b3739cc3ff",
   "metadata": {},
   "source": [
    "Notes:\n",
    "* This is the section where you have to include all  your answers to the items provided in the tasks section.\n",
    "* Tasks 1 and 2 contribute directly to ILO1: Demonstrate different methods for feature matching and detection learned in class and indepdentently from new sources.\n",
    "* Task 3 contributes directly to ILO2: Evaluate the accuracy of different feature matching and detection methods and scrutinize its applicability in solving a given real-life problem."
   ]
  },
  {
   "cell_type": "markdown",
   "id": "5dde1091-4711-4343-a48d-edad768437dd",
   "metadata": {},
   "source": [
    "### Task 1: Face Detection"
   ]
  },
  {
   "cell_type": "code",
   "execution_count": 21,
   "id": "13054d3d-fc5e-4e43-bdac-2f699165dda8",
   "metadata": {},
   "outputs": [],
   "source": [
    "# Include your code here"
   ]
  },
  {
   "cell_type": "markdown",
   "id": "7fd46e7b-4155-47de-9ada-a775afb39b2d",
   "metadata": {},
   "source": [
    "### Task 2: Face Recognition"
   ]
  },
  {
   "cell_type": "code",
   "execution_count": 22,
   "id": "de71ae16-2dd0-4171-8a69-4129338d695d",
   "metadata": {},
   "outputs": [],
   "source": [
    "# Include your code here"
   ]
  },
  {
   "cell_type": "markdown",
   "id": "61e5b345-0442-4e42-8500-a247a520383e",
   "metadata": {},
   "source": [
    "### Task 3: Mood Detection"
   ]
  },
  {
   "cell_type": "code",
   "execution_count": 23,
   "id": "dc361ca0-d355-4470-9fba-2b3b67bb240b",
   "metadata": {},
   "outputs": [],
   "source": [
    "# Technique 1"
   ]
  },
  {
   "cell_type": "code",
   "execution_count": 24,
   "id": "eb965e0c-a349-4e1c-b51d-e21db970dc7a",
   "metadata": {},
   "outputs": [],
   "source": [
    "# Technique 2"
   ]
  },
  {
   "cell_type": "code",
   "execution_count": 25,
   "id": "46261895-0b3f-4cfa-b62e-46871a91c17b",
   "metadata": {},
   "outputs": [],
   "source": [
    "# Technique 3"
   ]
  },
  {
   "cell_type": "markdown",
   "id": "76b537d4-927d-4adf-84e2-3fe4a7fef365",
   "metadata": {},
   "source": [
    "---"
   ]
  },
  {
   "cell_type": "markdown",
   "id": "9c8c97cb-2d49-4de4-9067-04245f9ab9cf",
   "metadata": {},
   "source": [
    "## Analysis"
   ]
  },
  {
   "cell_type": "markdown",
   "id": "544c6947-908c-4dd2-89c7-7dc4bb2f58f8",
   "metadata": {},
   "source": [
    "For the three different techniques you used in face detection, provide an in-depth analysis. \n",
    "\n",
    "To do this, you must:\n",
    "* Test the face detection, face recongition, and mood detection functions 10 times each. Only the mood detection will have components for 10 tests for each different technique used.\n",
    "* Create a table containing the 10 tests (like shown below) for each task.\n",
    "* Analyze each output by identifying the accuracy and providing your observations."
   ]
  },
  {
   "cell_type": "code",
   "execution_count": 26,
   "id": "2b079aab-6780-455a-9b69-b779028a02a9",
   "metadata": {},
   "outputs": [
    {
     "name": "stdout",
     "output_type": "stream",
     "text": [
      "Task 3A: Mood Detection using XYZ Algorithm\n",
      "+----------+------------+----------+---------+\n",
      "|   Test # | Expected   | Actual   |   Score |\n",
      "+==========+============+==========+=========+\n",
      "|        1 | Happy      | Sad      |       0 |\n",
      "+----------+------------+----------+---------+\n",
      "|        2 | Happy      | Neutral  |       0 |\n",
      "+----------+------------+----------+---------+\n",
      "|        3 | Happy      | Happy    |       1 |\n",
      "+----------+------------+----------+---------+\n",
      "Accuracy:  33.33\n"
     ]
    }
   ],
   "source": [
    "# Import the module for tabulating the data\n",
    "from tabulate import tabulate\n",
    " \n",
    "# Create a list for content of the table\n",
    "test_results = [\n",
    "    [\"1\", \"Happy\", \"Sad\", 0],\n",
    "    [\"2\", \"Happy\", \"Neutral\", 0],\n",
    "    [\"3\", \"Happy\", \"Happy\", 1]\n",
    "]\n",
    " \n",
    "# Create a list for the headers of your table\n",
    "header = [\"Test #\", \"Expected\", \"Actual\", \"Score\"]\n",
    " \n",
    "# display table\n",
    "print(\"Task 3A: Mood Detection using XYZ Algorithm\")\n",
    "print(tabulate(test_results, headers=header, tablefmt=\"grid\"))\n",
    "\n",
    "# Calculate for the accuracy\n",
    "total = 0\n",
    "for i in test_results:\n",
    "    total += i[3]\n",
    "print(\"Accuracy: \", round(total/len(test_results)*100,2))"
   ]
  },
  {
   "cell_type": "markdown",
   "id": "ef116e08-3c33-46dc-a5bd-613a50155f73",
   "metadata": {},
   "source": [
    "---"
   ]
  },
  {
   "cell_type": "markdown",
   "id": "cdfcc148-9c95-4125-a25c-965f16a7260e",
   "metadata": {},
   "source": [
    "## Summary and Lessons Learned"
   ]
  },
  {
   "cell_type": "markdown",
   "id": "e234d297-014b-4ab6-a427-627cf25b7632",
   "metadata": {},
   "source": [
    "This section must be answered concisely. Do not engage in unmeaningful writing for the summary and lessons learned. Provide your brief reflection only."
   ]
  },
  {
   "cell_type": "markdown",
   "id": "0bb275b8-d25b-4b4e-b1f3-e7ae48fd9de5",
   "metadata": {},
   "source": [
    "---"
   ]
  },
  {
   "cell_type": "markdown",
   "id": "d9c9194e-b263-4d38-bfa3-ed6490825a43",
   "metadata": {},
   "source": [
    "**Proprietary Clause**\n",
    "\n",
    "Property of the Technological Institute of the Philippines (T.I.P.). No part of the materials made and uploaded in this learning management system by T.I.P. may be copied, photographed, printed, reproduced, shared, transmitted, translated or reduced to any electronic medium or machine-readable form, in whole or in part, without prior consent of T.I.P.\n",
    "\n",
    "Prepared by Engr. RMR"
   ]
  }
 ],
 "metadata": {
  "kernelspec": {
   "display_name": "Python 3 (ipykernel)",
   "language": "python",
   "name": "python3"
  },
  "language_info": {
   "codemirror_mode": {
    "name": "ipython",
    "version": 3
   },
   "file_extension": ".py",
   "mimetype": "text/x-python",
   "name": "python",
   "nbconvert_exporter": "python",
   "pygments_lexer": "ipython3",
   "version": "3.9.12"
  }
 },
 "nbformat": 4,
 "nbformat_minor": 5
}
